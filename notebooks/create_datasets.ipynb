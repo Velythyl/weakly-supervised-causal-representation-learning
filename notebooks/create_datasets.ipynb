{
 "cells": [
  {
   "cell_type": "code",
   "execution_count": 1,
   "metadata": {},
   "outputs": [],
   "source": [
    "%load_ext autoreload\n",
    "%autoreload 2"
   ]
  },
  {
   "cell_type": "code",
   "execution_count": 2,
   "metadata": {},
   "outputs": [],
   "source": [
    "import torch\n",
    "import networkx\n",
    "import matplotlib.pyplot as plt\n",
    "import numpy as np\n",
    "\n",
    "from ws_crl_lite.datasets.dataset import build_manual_datasets"
   ]
  },
  {
   "cell_type": "code",
   "execution_count": 3,
   "metadata": {},
   "outputs": [
    {
     "name": "stderr",
     "output_type": "stream",
     "text": [
      "/network/scratch/d/david-a.dobre/.conda/envs/weakly-supervised-causal/lib/python3.8/site-packages/torch/nn/init.py:405: UserWarning: Initializing zero-element tensors is a no-op\n",
      "  warnings.warn(\"Initializing zero-element tensors is a no-op\")\n",
      "100%|██████████| 100000/100000 [01:52<00:00, 891.19it/s]\n",
      "100%|██████████| 100000/100000 [01:49<00:00, 917.21it/s]\n",
      "100%|██████████| 10000/10000 [00:22<00:00, 445.84it/s]\n",
      "100%|██████████| 10000/10000 [00:10<00:00, 943.92it/s]\n"
     ]
    }
   ],
   "source": [
    "train, dcitrain, val, test = build_manual_datasets([100000, 100000, 10000, 10000], \"atomic_markov1\", 42)"
   ]
  },
  {
   "cell_type": "code",
   "execution_count": 4,
   "metadata": {},
   "outputs": [],
   "source": [
    "def save(data_file, dataset, format=\"normal\"):\n",
    "    data = dataset[:]\n",
    "    if format==\"normal\":\n",
    "        intervention_labels = \\\n",
    "            np.packbits(data[3], bitorder='big', axis=2) >> (8 - data[3].shape[2])\n",
    "        torch.save((*data[:2], data[3], intervention_labels.squeeze()), data_file)\n",
    "    elif format==\"og\":\n",
    "        intervention_labels = data[2].squeeze()\n",
    "        intervention_labels[intervention_labels==5] = 2\n",
    "        intervention_labels[intervention_labels==7] = 3\n",
    "        torch.save(\n",
    "            (\n",
    "                data[0][:, 0], \n",
    "                data[0][:, 1],\n",
    "                data[1][:, 0], \n",
    "                data[1][:, 1], \n",
    "                intervention_labels.long(),\n",
    "                data[3].squeeze()\n",
    "            ),\n",
    "            data_file\n",
    "        )\n",
    "\n",
    "    else:\n",
    "        raise NotImplementedError\n"
   ]
  },
  {
   "cell_type": "code",
   "execution_count": 5,
   "metadata": {},
   "outputs": [],
   "source": [
    "!mkdir -p ../results_scaling_markov1/data/scaling_custom/dim_3_mode_random_seed_42/"
   ]
  },
  {
   "cell_type": "code",
   "execution_count": 6,
   "metadata": {},
   "outputs": [],
   "source": [
    "save(\"../data/3d_markov1_train.pt\", train)\n",
    "save(\"../data/3d_markov1_dci_train.pt\", dcitrain)\n",
    "save(\"../data/3d_markov1_val.pt\", val)\n",
    "save(\"../data/3d_markov1_test.pt\", test)\n",
    "\n",
    "save(\"../results_scaling_markov1/data/scaling_custom/dim_3_mode_random_seed_42/train.pt\", train, format=\"og\")\n",
    "save(\"../results_scaling_markov1/data/scaling_custom/dim_3_mode_random_seed_42/dci_train.pt\", dcitrain, format=\"og\")\n",
    "save(\"../results_scaling_markov1/data/scaling_custom/dim_3_mode_random_seed_42/val.pt\", val, format=\"og\")\n",
    "save(\"../results_scaling_markov1/data/scaling_custom/dim_3_mode_random_seed_42/test.pt\", test, format=\"og\")\n",
    "\n"
   ]
  },
  {
   "cell_type": "markdown",
   "metadata": {},
   "source": [
    "# Load their dataset\n",
    "\n",
    "Convert it to our visualization tool"
   ]
  },
  {
   "cell_type": "code",
   "execution_count": 7,
   "metadata": {},
   "outputs": [],
   "source": [
    "theirs = torch.load(\"../results_scaling_markov1/data/scaling/dim_3_mode_random_seed_42/test.pt\")"
   ]
  },
  {
   "cell_type": "code",
   "execution_count": 13,
   "metadata": {},
   "outputs": [],
   "source": [
    "torch.save(\n",
    "    (\n",
    "        torch.permute(torch.stack([theirs[0], theirs[1]]), (1,0,2)),\n",
    "        torch.permute(torch.stack([theirs[2], theirs[3]]), (1,0,2)),\n",
    "        theirs[5][:, None, :], \n",
    "        theirs[4]\n",
    "    ), \n",
    "    \"../data/3d_markov1_theirs.pt\"\n",
    ")"
   ]
  },
  {
   "cell_type": "code",
   "execution_count": null,
   "metadata": {},
   "outputs": [],
   "source": []
  }
 ],
 "metadata": {
  "kernelspec": {
   "display_name": "weakly-supervised-causal",
   "language": "python",
   "name": "python3"
  },
  "language_info": {
   "codemirror_mode": {
    "name": "ipython",
    "version": 3
   },
   "file_extension": ".py",
   "mimetype": "text/x-python",
   "name": "python",
   "nbconvert_exporter": "python",
   "pygments_lexer": "ipython3",
   "version": "3.8.18"
  }
 },
 "nbformat": 4,
 "nbformat_minor": 2
}
