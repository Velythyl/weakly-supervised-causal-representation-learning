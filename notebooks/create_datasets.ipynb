{
 "cells": [
  {
   "cell_type": "code",
   "execution_count": 1,
   "metadata": {},
   "outputs": [],
   "source": [
    "%load_ext autoreload\n",
    "%autoreload 2"
   ]
  },
  {
   "cell_type": "code",
   "execution_count": 2,
   "metadata": {},
   "outputs": [],
   "source": [
    "import torch\n",
    "import networkx\n",
    "import matplotlib.pyplot as plt\n",
    "import numpy as np\n",
    "\n",
    "from ws_crl_lite.datasets.dataset import build_manual_datasets"
   ]
  },
  {
   "cell_type": "code",
   "execution_count": 3,
   "metadata": {},
   "outputs": [],
   "source": [
    "def save(data_file, dataset, format=\"normal\", order=1):\n",
    "    data = dataset[:]\n",
    "    if format==\"normal\":\n",
    "        intervention_labels = \\\n",
    "            np.packbits(data[3], bitorder='big', axis=2) >> (8 - data[3].shape[2])\n",
    "        torch.save((*data[:2], data[3], intervention_labels.squeeze()), data_file)\n",
    "    elif format==\"og\":\n",
    "        intervention_labels = data[2].squeeze()\n",
    "        if order == 1:\n",
    "            intervention_labels[intervention_labels==5] = 2\n",
    "            intervention_labels[intervention_labels==7] = 3\n",
    "        if order == 2:\n",
    "            # [ 0,  1,  9, 13, 15])\n",
    "            intervention_labels[intervention_labels==9] = 2\n",
    "            intervention_labels[intervention_labels==13] = 3\n",
    "            intervention_labels[intervention_labels==15] = 4\n",
    "\n",
    "        torch.save(\n",
    "            (\n",
    "                data[0][:, 0], \n",
    "                data[0][:, 1],\n",
    "                data[1][:, 0], \n",
    "                data[1][:, 1], \n",
    "                intervention_labels.long(),\n",
    "                data[3].squeeze()\n",
    "            ),\n",
    "            data_file\n",
    "        )\n",
    "\n",
    "    else:\n",
    "        raise NotImplementedError\n"
   ]
  },
  {
   "cell_type": "code",
   "execution_count": 3,
   "metadata": {},
   "outputs": [
    {
     "name": "stderr",
     "output_type": "stream",
     "text": [
      "/network/scratch/d/david-a.dobre/.conda/envs/weakly-supervised-causal/lib/python3.8/site-packages/torch/nn/init.py:405: UserWarning: Initializing zero-element tensors is a no-op\n",
      "  warnings.warn(\"Initializing zero-element tensors is a no-op\")\n",
      "100%|██████████| 100000/100000 [01:52<00:00, 891.19it/s]\n",
      "100%|██████████| 100000/100000 [01:49<00:00, 917.21it/s]\n",
      "100%|██████████| 10000/10000 [00:22<00:00, 445.84it/s]\n",
      "100%|██████████| 10000/10000 [00:10<00:00, 943.92it/s]\n"
     ]
    }
   ],
   "source": [
    "train, dcitrain, val, test = build_manual_datasets([100000, 100000, 10000, 10000], \"atomic_markov1\", 42)"
   ]
  },
  {
   "cell_type": "code",
   "execution_count": 5,
   "metadata": {},
   "outputs": [],
   "source": [
    "!mkdir -p ../results_scaling_markov1/data/scaling_custom/dim_3_mode_random_seed_42/"
   ]
  },
  {
   "cell_type": "code",
   "execution_count": 6,
   "metadata": {},
   "outputs": [],
   "source": [
    "save(\"../data/3d_markov1_train.pt\", train)\n",
    "save(\"../data/3d_markov1_dci_train.pt\", dcitrain)\n",
    "save(\"../data/3d_markov1_val.pt\", val)\n",
    "save(\"../data/3d_markov1_test.pt\", test)\n",
    "\n",
    "save(\"../results_scaling_markov1/data/scaling_custom/dim_3_mode_random_seed_42/train.pt\", train, format=\"og\")\n",
    "save(\"../results_scaling_markov1/data/scaling_custom/dim_3_mode_random_seed_42/dci_train.pt\", dcitrain, format=\"og\")\n",
    "save(\"../results_scaling_markov1/data/scaling_custom/dim_3_mode_random_seed_42/val.pt\", val, format=\"og\")\n",
    "save(\"../results_scaling_markov1/data/scaling_custom/dim_3_mode_random_seed_42/test.pt\", test, format=\"og\")\n",
    "\n"
   ]
  },
  {
   "cell_type": "markdown",
   "metadata": {},
   "source": [
    "## 4 node graph"
   ]
  },
  {
   "cell_type": "code",
   "execution_count": 43,
   "metadata": {},
   "outputs": [
    {
     "name": "stderr",
     "output_type": "stream",
     "text": [
      "/network/scratch/d/david-a.dobre/.conda/envs/weakly-supervised-causal/lib/python3.8/site-packages/torch/nn/init.py:405: UserWarning: Initializing zero-element tensors is a no-op\n",
      "  warnings.warn(\"Initializing zero-element tensors is a no-op\")\n",
      "100%|██████████| 100000/100000 [02:00<00:00, 832.75it/s]\n",
      "100%|██████████| 100000/100000 [01:53<00:00, 880.50it/s]\n",
      "100%|██████████| 10000/10000 [00:11<00:00, 897.89it/s]\n",
      "100%|██████████| 10000/10000 [00:11<00:00, 880.54it/s]\n"
     ]
    }
   ],
   "source": [
    "train_4d, dcitrain_4d, val_4d, test_4d = build_manual_datasets([100000, 100000, 10000, 10000], \"atomic_4d_markov1\", 42)"
   ]
  },
  {
   "cell_type": "code",
   "execution_count": 44,
   "metadata": {},
   "outputs": [],
   "source": [
    "!mkdir -p ../results_scaling_markov1/data/scaling_custom_linear/dim_4_mode_random_seed_42/"
   ]
  },
  {
   "cell_type": "code",
   "execution_count": 45,
   "metadata": {},
   "outputs": [],
   "source": [
    "save(\"../results_scaling_markov1/data/scaling_custom_linear/dim_4_mode_random_seed_42/train.pt\", train_4d, format=\"og\", order=2)\n",
    "save(\"../results_scaling_markov1/data/scaling_custom_linear/dim_4_mode_random_seed_42/dci_train.pt\", dcitrain_4d, format=\"og\", order=2)\n",
    "save(\"../results_scaling_markov1/data/scaling_custom_linear/dim_4_mode_random_seed_42/val.pt\", val_4d, format=\"og\", order=2)\n",
    "save(\"../results_scaling_markov1/data/scaling_custom_linear/dim_4_mode_random_seed_42/test.pt\", test_4d, format=\"og\", order=2)\n",
    "\n"
   ]
  },
  {
   "cell_type": "code",
   "execution_count": 4,
   "metadata": {},
   "outputs": [],
   "source": [
    "x = torch.load(\"../results_scaling_markov1/data/scaling_custom/dim_4_mode_random_seed_42/train.pt\")"
   ]
  },
  {
   "cell_type": "code",
   "execution_count": 5,
   "metadata": {},
   "outputs": [
    {
     "data": {
      "text/plain": [
       "array([0, 1, 2, 3, 4])"
      ]
     },
     "execution_count": 5,
     "metadata": {},
     "output_type": "execute_result"
    }
   ],
   "source": [
    "np.unique(x[4])"
   ]
  },
  {
   "cell_type": "markdown",
   "metadata": {},
   "source": [
    "# Load their dataset\n",
    "\n",
    "Convert it to our visualization tool"
   ]
  },
  {
   "cell_type": "code",
   "execution_count": 46,
   "metadata": {},
   "outputs": [],
   "source": [
    "theirs = torch.load(\"../results_scaling_markov1/data/scaling/dim_4_mode_random_seed_42/test.pt\")"
   ]
  },
  {
   "cell_type": "code",
   "execution_count": 13,
   "metadata": {},
   "outputs": [],
   "source": [
    "torch.save(\n",
    "    (\n",
    "        torch.permute(torch.stack([theirs[0], theirs[1]]), (1,0,2)),\n",
    "        torch.permute(torch.stack([theirs[2], theirs[3]]), (1,0,2)),\n",
    "        theirs[5][:, None, :], \n",
    "        theirs[4]\n",
    "    ), \n",
    "    \"../data/3d_markov1_theirs.pt\"\n",
    ")"
   ]
  },
  {
   "cell_type": "code",
   "execution_count": 46,
   "metadata": {},
   "outputs": [
    {
     "name": "stderr",
     "output_type": "stream",
     "text": [
      "[autoreload of ws_crl_lite.datasets.dataset failed: Traceback (most recent call last):\n",
      "  File \"/network/scratch/d/david-a.dobre/.conda/envs/weakly-supervised-causal/lib/python3.8/site-packages/IPython/extensions/autoreload.py\", line 273, in check\n",
      "    superreload(m, reload, self.old_objects)\n",
      "  File \"/network/scratch/d/david-a.dobre/.conda/envs/weakly-supervised-causal/lib/python3.8/site-packages/IPython/extensions/autoreload.py\", line 496, in superreload\n",
      "    update_generic(old_obj, new_obj)\n",
      "  File \"/network/scratch/d/david-a.dobre/.conda/envs/weakly-supervised-causal/lib/python3.8/site-packages/IPython/extensions/autoreload.py\", line 393, in update_generic\n",
      "    update(a, b)\n",
      "  File \"/network/scratch/d/david-a.dobre/.conda/envs/weakly-supervised-causal/lib/python3.8/site-packages/IPython/extensions/autoreload.py\", line 345, in update_class\n",
      "    if update_generic(old_obj, new_obj):\n",
      "  File \"/network/scratch/d/david-a.dobre/.conda/envs/weakly-supervised-causal/lib/python3.8/site-packages/IPython/extensions/autoreload.py\", line 393, in update_generic\n",
      "    update(a, b)\n",
      "  File \"/network/scratch/d/david-a.dobre/.conda/envs/weakly-supervised-causal/lib/python3.8/site-packages/IPython/extensions/autoreload.py\", line 305, in update_function\n",
      "    setattr(old, name, getattr(new, name))\n",
      "ValueError: __init__() requires a code object with 0 free vars, not 1\n",
      "]\n"
     ]
    }
   ],
   "source": [
    "# Define new datasets"
   ]
  },
  {
   "cell_type": "code",
   "execution_count": 4,
   "metadata": {},
   "outputs": [],
   "source": [
    "import numpy as np\n",
    "import networkx as nx\n",
    "from torch.distributions import Normal\n",
    "from ws_crl_lite.datasets.intervset import IntervSet, IntervTable\n",
    "from ws_crl_lite.datasets.dataset import GraphObjBase"
   ]
  },
  {
   "cell_type": "code",
   "execution_count": 5,
   "metadata": {},
   "outputs": [],
   "source": [
    "class ATOMIC_4D_MARKOV1(GraphObjBase):\n",
    "    def __init__(self, seed: int = None):\n",
    "        super().__init__(seed)\n",
    "\n",
    "        # FIRST, CREATE A GRAPH\n",
    "        self.G = nx.DiGraph()\n",
    "\n",
    "        # Add edges to the graph\n",
    "        self.edges = [('A', 'C'), ('A', 'D'), ('C', 'D')]\n",
    "        self.G.add_edges_from(self.edges)\n",
    "\n",
    "        self.x = IntervSet(self.G, markov=1)  #, set_of_all_intervs=[(), (0,), (1,), (2,)])\n",
    "        self.dict_of_tables = {\n",
    "            0: np.ones(self.x.num_interv_ids), \n",
    "        }\n",
    "\n",
    "        self.alpha_vec = np.random.uniform(0.1,1, size=(2,))\n",
    "\n",
    "        # PASS THE TABLE AND ALPHAS TO THE INTERVSET CALCULATOR\n",
    "        self.switch_case = IntervTable(self.dict_of_tables, self.alpha_vec)\n",
    "\n",
    "        self.x.set_tables(self.switch_case)\n",
    "        self.x.kill(intervs_of_size=2)\n",
    "        self.x.kill(intervs_of_size=3)\n",
    "        self.x.kill(intervs_of_size=4) \n",
    "\n",
    "        # DEFINE THE RELATIONSHIP OF EACH NODE TO ITS PARENT\n",
    "        # (to automate this, just an affine transform given the parents)\n",
    "        self.links = {\n",
    "            'A': lambda parents: Normal(0.0, 1.0).sample(),\n",
    "            'B': lambda parents: Normal(0.3 * parents[0], 0.16).sample(),\n",
    "            'C': lambda parents: Normal(0.2 * parents[0], 0.2).sample(),\n",
    "            'D': lambda parents: Normal(- 0.3 * parents[0], 0.4).sample(),\n",
    "        }\n",
    "\n",
    "        # DEFINE HOW THE NODES BEHAVE WHEN THEY GET INTERVENED ON\n",
    "        # (to automate this, just sample from a normal or something of the sort)\n",
    "        self.unlinks = {\n",
    "            'A': lambda: self.links['A'](None),\n",
    "            'B': lambda: Normal(0.4, 0.2).sample(),\n",
    "            'C': lambda: Normal(0.1, 0.4).sample(),\n",
    "            'D': lambda: Normal(-0.3, 0.3).sample()\n",
    "        }"
   ]
  },
  {
   "cell_type": "code",
   "execution_count": 6,
   "metadata": {},
   "outputs": [
    {
     "name": "stderr",
     "output_type": "stream",
     "text": [
      "/network/scratch/d/david-a.dobre/.conda/envs/weakly-supervised-causal/lib/python3.8/site-packages/torch/nn/init.py:405: UserWarning: Initializing zero-element tensors is a no-op\n",
      "  warnings.warn(\"Initializing zero-element tensors is a no-op\")\n",
      "  9%|▉         | 9327/100000 [00:12<01:57, 773.84it/s]"
     ]
    }
   ],
   "source": [
    "train, dcitrain, val, test = build_manual_datasets([100000, 100000, 10000, 10000], graph_def_obj=ATOMIC_4D_MARKOV1().dataset_kwargs(), seed=42)"
   ]
  },
  {
   "cell_type": "code",
   "execution_count": null,
   "metadata": {},
   "outputs": [],
   "source": []
  }
 ],
 "metadata": {
  "kernelspec": {
   "display_name": "weakly-supervised-causal",
   "language": "python",
   "name": "python3"
  },
  "language_info": {
   "codemirror_mode": {
    "name": "ipython",
    "version": 3
   },
   "file_extension": ".py",
   "mimetype": "text/x-python",
   "name": "python",
   "nbconvert_exporter": "python",
   "pygments_lexer": "ipython3",
   "version": "3.8.18"
  }
 },
 "nbformat": 4,
 "nbformat_minor": 2
}
