{
 "cells": [
  {
   "cell_type": "code",
   "execution_count": 1,
   "metadata": {},
   "outputs": [],
   "source": [
    "%load_ext autoreload\n",
    "%autoreload 2"
   ]
  },
  {
   "cell_type": "code",
   "execution_count": 2,
   "metadata": {},
   "outputs": [],
   "source": [
    "import torch\n",
    "import networkx\n",
    "import matplotlib.pyplot as plt\n",
    "import numpy as np\n",
    "\n",
    "from ws_crl_lite.datasets.dataset import build_manual_datasets"
   ]
  },
  {
   "cell_type": "code",
   "execution_count": 3,
   "metadata": {},
   "outputs": [
    {
     "name": "stderr",
     "output_type": "stream",
     "text": [
      "/network/scratch/d/david-a.dobre/.conda/envs/weakly-supervised-causal/lib/python3.8/site-packages/torch/nn/init.py:405: UserWarning: Initializing zero-element tensors is a no-op\n",
      "  warnings.warn(\"Initializing zero-element tensors is a no-op\")\n",
      "100%|██████████| 100000/100000 [02:39<00:00, 625.18it/s]\n",
      "100%|██████████| 100000/100000 [02:34<00:00, 646.12it/s]\n",
      "100%|██████████| 10000/10000 [00:14<00:00, 677.34it/s]\n",
      "100%|██████████| 10000/10000 [00:14<00:00, 686.50it/s]\n"
     ]
    }
   ],
   "source": [
    "train, dcitrain, val, test = build_manual_datasets([100000, 100000, 10000, 10000], \"atomic_markov1\", 42)"
   ]
  },
  {
   "cell_type": "code",
   "execution_count": 4,
   "metadata": {},
   "outputs": [],
   "source": [
    "def save(data_file, dataset, format=\"normal\"):\n",
    "    data = dataset[:]\n",
    "    if format==\"normal\":\n",
    "        intervention_labels = \\\n",
    "            np.packbits(data[3], bitorder='big', axis=2) >> (8 - data[3].shape[2])\n",
    "        torch.save((*data[:2], data[3], intervention_labels.squeeze()), data_file)\n",
    "    elif format==\"og\":\n",
    "        intervention_labels = data[2].squeeze()\n",
    "        intervention_labels[intervention_labels==5] = 2\n",
    "        intervention_labels[intervention_labels==7] = 3\n",
    "        torch.save(\n",
    "            (\n",
    "                data[0][:, 0], \n",
    "                data[0][:, 1],\n",
    "                data[1][:, 0], \n",
    "                data[1][:, 1], \n",
    "                intervention_labels.long(),\n",
    "                data[3].squeeze()\n",
    "            ),\n",
    "            data_file\n",
    "        )\n",
    "\n",
    "    else:\n",
    "        raise NotImplementedError\n"
   ]
  },
  {
   "cell_type": "code",
   "execution_count": 11,
   "metadata": {},
   "outputs": [],
   "source": [
    "!mkdir -p ../results_scaling_markov1/data/scaling_custom/dim_3_mode_random_seed_42/"
   ]
  },
  {
   "cell_type": "code",
   "execution_count": 12,
   "metadata": {},
   "outputs": [],
   "source": [
    "save(\"../data/3d_markov1_train.pt\", train)\n",
    "save(\"../data/3d_markov1_dci_train.pt\", dcitrain)\n",
    "save(\"../data/3d_markov1_val.pt\", val)\n",
    "save(\"../data/3d_markov1_test.pt\", test)\n",
    "\n",
    "save(\"../results_scaling_markov1/data/scaling_custom/dim_3_mode_random_seed_42/train.pt\", train, format=\"og\")\n",
    "save(\"../results_scaling_markov1/data/scaling_custom/dim_3_mode_random_seed_42/dci_train.pt\", dcitrain, format=\"og\")\n",
    "save(\"../results_scaling_markov1/data/scaling_custom/dim_3_mode_random_seed_42/val.pt\", val, format=\"og\")\n",
    "save(\"../results_scaling_markov1/data/scaling_custom/dim_3_mode_random_seed_42/test.pt\", test, format=\"og\")\n",
    "\n"
   ]
  },
  {
   "cell_type": "code",
   "execution_count": null,
   "metadata": {},
   "outputs": [],
   "source": []
  }
 ],
 "metadata": {
  "kernelspec": {
   "display_name": "weakly-supervised-causal",
   "language": "python",
   "name": "python3"
  },
  "language_info": {
   "codemirror_mode": {
    "name": "ipython",
    "version": 3
   },
   "file_extension": ".py",
   "mimetype": "text/x-python",
   "name": "python",
   "nbconvert_exporter": "python",
   "pygments_lexer": "ipython3",
   "version": "3.8.18"
  }
 },
 "nbformat": 4,
 "nbformat_minor": 2
}
